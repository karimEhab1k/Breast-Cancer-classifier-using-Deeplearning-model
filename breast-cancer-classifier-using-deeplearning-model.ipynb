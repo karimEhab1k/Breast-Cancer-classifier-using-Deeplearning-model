{
 "cells": [
  {
   "cell_type": "code",
   "execution_count": 1,
   "id": "8cd079a6",
   "metadata": {
    "_cell_guid": "b1076dfc-b9ad-4769-8c92-a6c4dae69d19",
    "_uuid": "8f2839f25d086af736a60e9eeb907d3b93b6e0e5",
    "execution": {
     "iopub.execute_input": "2025-07-30T17:28:19.963154Z",
     "iopub.status.busy": "2025-07-30T17:28:19.962778Z",
     "iopub.status.idle": "2025-07-30T17:28:21.795161Z",
     "shell.execute_reply": "2025-07-30T17:28:21.793866Z"
    },
    "papermill": {
     "duration": 1.840469,
     "end_time": "2025-07-30T17:28:21.796975",
     "exception": false,
     "start_time": "2025-07-30T17:28:19.956506",
     "status": "completed"
    },
    "tags": []
   },
   "outputs": [],
   "source": [
    "# This Python 3 environment comes with many helpful analytics libraries installed\n",
    "# It is defined by the kaggle/python Docker image: https://github.com/kaggle/docker-python\n",
    "# For example, here's several helpful packages to load\n",
    "\n",
    "import numpy as np # linear algebra\n",
    "import pandas as pd # data processing, CSV file I/O (e.g. pd.read_csv)\n",
    "\n",
    "# Input data files are available in the read-only \"../input/\" directory\n",
    "# For example, running this (by clicking run or pressing Shift+Enter) will list all files under the input directory\n",
    "\n",
    "import os\n",
    "for dirname, _, filenames in os.walk('/kaggle/input'):\n",
    "    for filename in filenames:\n",
    "        print(os.path.join(dirname, filename))\n",
    "\n",
    "# You can write up to 20GB to the current directory (/kaggle/working/) that gets preserved as output when you create a version using \"Save & Run All\" \n",
    "# You can also write temporary files to /kaggle/temp/, but they won't be saved outside of the current session"
   ]
  },
  {
   "cell_type": "code",
   "execution_count": 2,
   "id": "e2b2bf0c",
   "metadata": {
    "execution": {
     "iopub.execute_input": "2025-07-30T17:28:21.808111Z",
     "iopub.status.busy": "2025-07-30T17:28:21.807468Z",
     "iopub.status.idle": "2025-07-30T17:28:23.541909Z",
     "shell.execute_reply": "2025-07-30T17:28:23.540970Z"
    },
    "papermill": {
     "duration": 1.741683,
     "end_time": "2025-07-30T17:28:23.543585",
     "exception": false,
     "start_time": "2025-07-30T17:28:21.801902",
     "status": "completed"
    },
    "tags": []
   },
   "outputs": [],
   "source": [
    "\n",
    "import sklearn\n",
    "from sklearn import datasets\n",
    "#loading dataset\n",
    "dataset = sklearn.datasets.load_breast_cancer()"
   ]
  },
  {
   "cell_type": "code",
   "execution_count": 3,
   "id": "bdbb4b89",
   "metadata": {
    "execution": {
     "iopub.execute_input": "2025-07-30T17:28:23.553138Z",
     "iopub.status.busy": "2025-07-30T17:28:23.552710Z",
     "iopub.status.idle": "2025-07-30T17:28:23.565722Z",
     "shell.execute_reply": "2025-07-30T17:28:23.564920Z"
    },
    "papermill": {
     "duration": 0.019519,
     "end_time": "2025-07-30T17:28:23.567329",
     "exception": false,
     "start_time": "2025-07-30T17:28:23.547810",
     "status": "completed"
    },
    "tags": []
   },
   "outputs": [],
   "source": [
    "#converting the dataset to dataframe\n",
    "df = pd.DataFrame(data= dataset.data, columns = dataset.feature_names)\n",
    "df['target'] = dataset.target"
   ]
  },
  {
   "cell_type": "code",
   "execution_count": 4,
   "id": "b45e5d4a",
   "metadata": {
    "execution": {
     "iopub.execute_input": "2025-07-30T17:28:23.576606Z",
     "iopub.status.busy": "2025-07-30T17:28:23.576303Z",
     "iopub.status.idle": "2025-07-30T17:28:23.617561Z",
     "shell.execute_reply": "2025-07-30T17:28:23.616495Z"
    },
    "papermill": {
     "duration": 0.047545,
     "end_time": "2025-07-30T17:28:23.619018",
     "exception": false,
     "start_time": "2025-07-30T17:28:23.571473",
     "status": "completed"
    },
    "tags": []
   },
   "outputs": [
    {
     "data": {
      "text/html": [
       "<div>\n",
       "<style scoped>\n",
       "    .dataframe tbody tr th:only-of-type {\n",
       "        vertical-align: middle;\n",
       "    }\n",
       "\n",
       "    .dataframe tbody tr th {\n",
       "        vertical-align: top;\n",
       "    }\n",
       "\n",
       "    .dataframe thead th {\n",
       "        text-align: right;\n",
       "    }\n",
       "</style>\n",
       "<table border=\"1\" class=\"dataframe\">\n",
       "  <thead>\n",
       "    <tr style=\"text-align: right;\">\n",
       "      <th></th>\n",
       "      <th>mean radius</th>\n",
       "      <th>mean texture</th>\n",
       "      <th>mean perimeter</th>\n",
       "      <th>mean area</th>\n",
       "      <th>mean smoothness</th>\n",
       "      <th>mean compactness</th>\n",
       "      <th>mean concavity</th>\n",
       "      <th>mean concave points</th>\n",
       "      <th>mean symmetry</th>\n",
       "      <th>mean fractal dimension</th>\n",
       "      <th>...</th>\n",
       "      <th>worst texture</th>\n",
       "      <th>worst perimeter</th>\n",
       "      <th>worst area</th>\n",
       "      <th>worst smoothness</th>\n",
       "      <th>worst compactness</th>\n",
       "      <th>worst concavity</th>\n",
       "      <th>worst concave points</th>\n",
       "      <th>worst symmetry</th>\n",
       "      <th>worst fractal dimension</th>\n",
       "      <th>target</th>\n",
       "    </tr>\n",
       "  </thead>\n",
       "  <tbody>\n",
       "    <tr>\n",
       "      <th>0</th>\n",
       "      <td>17.99</td>\n",
       "      <td>10.38</td>\n",
       "      <td>122.80</td>\n",
       "      <td>1001.0</td>\n",
       "      <td>0.11840</td>\n",
       "      <td>0.27760</td>\n",
       "      <td>0.3001</td>\n",
       "      <td>0.14710</td>\n",
       "      <td>0.2419</td>\n",
       "      <td>0.07871</td>\n",
       "      <td>...</td>\n",
       "      <td>17.33</td>\n",
       "      <td>184.60</td>\n",
       "      <td>2019.0</td>\n",
       "      <td>0.1622</td>\n",
       "      <td>0.6656</td>\n",
       "      <td>0.7119</td>\n",
       "      <td>0.2654</td>\n",
       "      <td>0.4601</td>\n",
       "      <td>0.11890</td>\n",
       "      <td>0</td>\n",
       "    </tr>\n",
       "    <tr>\n",
       "      <th>1</th>\n",
       "      <td>20.57</td>\n",
       "      <td>17.77</td>\n",
       "      <td>132.90</td>\n",
       "      <td>1326.0</td>\n",
       "      <td>0.08474</td>\n",
       "      <td>0.07864</td>\n",
       "      <td>0.0869</td>\n",
       "      <td>0.07017</td>\n",
       "      <td>0.1812</td>\n",
       "      <td>0.05667</td>\n",
       "      <td>...</td>\n",
       "      <td>23.41</td>\n",
       "      <td>158.80</td>\n",
       "      <td>1956.0</td>\n",
       "      <td>0.1238</td>\n",
       "      <td>0.1866</td>\n",
       "      <td>0.2416</td>\n",
       "      <td>0.1860</td>\n",
       "      <td>0.2750</td>\n",
       "      <td>0.08902</td>\n",
       "      <td>0</td>\n",
       "    </tr>\n",
       "    <tr>\n",
       "      <th>2</th>\n",
       "      <td>19.69</td>\n",
       "      <td>21.25</td>\n",
       "      <td>130.00</td>\n",
       "      <td>1203.0</td>\n",
       "      <td>0.10960</td>\n",
       "      <td>0.15990</td>\n",
       "      <td>0.1974</td>\n",
       "      <td>0.12790</td>\n",
       "      <td>0.2069</td>\n",
       "      <td>0.05999</td>\n",
       "      <td>...</td>\n",
       "      <td>25.53</td>\n",
       "      <td>152.50</td>\n",
       "      <td>1709.0</td>\n",
       "      <td>0.1444</td>\n",
       "      <td>0.4245</td>\n",
       "      <td>0.4504</td>\n",
       "      <td>0.2430</td>\n",
       "      <td>0.3613</td>\n",
       "      <td>0.08758</td>\n",
       "      <td>0</td>\n",
       "    </tr>\n",
       "    <tr>\n",
       "      <th>3</th>\n",
       "      <td>11.42</td>\n",
       "      <td>20.38</td>\n",
       "      <td>77.58</td>\n",
       "      <td>386.1</td>\n",
       "      <td>0.14250</td>\n",
       "      <td>0.28390</td>\n",
       "      <td>0.2414</td>\n",
       "      <td>0.10520</td>\n",
       "      <td>0.2597</td>\n",
       "      <td>0.09744</td>\n",
       "      <td>...</td>\n",
       "      <td>26.50</td>\n",
       "      <td>98.87</td>\n",
       "      <td>567.7</td>\n",
       "      <td>0.2098</td>\n",
       "      <td>0.8663</td>\n",
       "      <td>0.6869</td>\n",
       "      <td>0.2575</td>\n",
       "      <td>0.6638</td>\n",
       "      <td>0.17300</td>\n",
       "      <td>0</td>\n",
       "    </tr>\n",
       "    <tr>\n",
       "      <th>4</th>\n",
       "      <td>20.29</td>\n",
       "      <td>14.34</td>\n",
       "      <td>135.10</td>\n",
       "      <td>1297.0</td>\n",
       "      <td>0.10030</td>\n",
       "      <td>0.13280</td>\n",
       "      <td>0.1980</td>\n",
       "      <td>0.10430</td>\n",
       "      <td>0.1809</td>\n",
       "      <td>0.05883</td>\n",
       "      <td>...</td>\n",
       "      <td>16.67</td>\n",
       "      <td>152.20</td>\n",
       "      <td>1575.0</td>\n",
       "      <td>0.1374</td>\n",
       "      <td>0.2050</td>\n",
       "      <td>0.4000</td>\n",
       "      <td>0.1625</td>\n",
       "      <td>0.2364</td>\n",
       "      <td>0.07678</td>\n",
       "      <td>0</td>\n",
       "    </tr>\n",
       "  </tbody>\n",
       "</table>\n",
       "<p>5 rows × 31 columns</p>\n",
       "</div>"
      ],
      "text/plain": [
       "   mean radius  mean texture  mean perimeter  mean area  mean smoothness  \\\n",
       "0        17.99         10.38          122.80     1001.0          0.11840   \n",
       "1        20.57         17.77          132.90     1326.0          0.08474   \n",
       "2        19.69         21.25          130.00     1203.0          0.10960   \n",
       "3        11.42         20.38           77.58      386.1          0.14250   \n",
       "4        20.29         14.34          135.10     1297.0          0.10030   \n",
       "\n",
       "   mean compactness  mean concavity  mean concave points  mean symmetry  \\\n",
       "0           0.27760          0.3001              0.14710         0.2419   \n",
       "1           0.07864          0.0869              0.07017         0.1812   \n",
       "2           0.15990          0.1974              0.12790         0.2069   \n",
       "3           0.28390          0.2414              0.10520         0.2597   \n",
       "4           0.13280          0.1980              0.10430         0.1809   \n",
       "\n",
       "   mean fractal dimension  ...  worst texture  worst perimeter  worst area  \\\n",
       "0                 0.07871  ...          17.33           184.60      2019.0   \n",
       "1                 0.05667  ...          23.41           158.80      1956.0   \n",
       "2                 0.05999  ...          25.53           152.50      1709.0   \n",
       "3                 0.09744  ...          26.50            98.87       567.7   \n",
       "4                 0.05883  ...          16.67           152.20      1575.0   \n",
       "\n",
       "   worst smoothness  worst compactness  worst concavity  worst concave points  \\\n",
       "0            0.1622             0.6656           0.7119                0.2654   \n",
       "1            0.1238             0.1866           0.2416                0.1860   \n",
       "2            0.1444             0.4245           0.4504                0.2430   \n",
       "3            0.2098             0.8663           0.6869                0.2575   \n",
       "4            0.1374             0.2050           0.4000                0.1625   \n",
       "\n",
       "   worst symmetry  worst fractal dimension  target  \n",
       "0          0.4601                  0.11890       0  \n",
       "1          0.2750                  0.08902       0  \n",
       "2          0.3613                  0.08758       0  \n",
       "3          0.6638                  0.17300       0  \n",
       "4          0.2364                  0.07678       0  \n",
       "\n",
       "[5 rows x 31 columns]"
      ]
     },
     "execution_count": 4,
     "metadata": {},
     "output_type": "execute_result"
    }
   ],
   "source": [
    "df.head()"
   ]
  },
  {
   "cell_type": "code",
   "execution_count": 5,
   "id": "35419b77",
   "metadata": {
    "execution": {
     "iopub.execute_input": "2025-07-30T17:28:23.630286Z",
     "iopub.status.busy": "2025-07-30T17:28:23.629622Z",
     "iopub.status.idle": "2025-07-30T17:28:23.638817Z",
     "shell.execute_reply": "2025-07-30T17:28:23.637915Z"
    },
    "papermill": {
     "duration": 0.016711,
     "end_time": "2025-07-30T17:28:23.640421",
     "exception": false,
     "start_time": "2025-07-30T17:28:23.623710",
     "status": "completed"
    },
    "tags": []
   },
   "outputs": [],
   "source": [
    "X = df.drop('target' , axis = 1)\n",
    "y = df['target']"
   ]
  },
  {
   "cell_type": "code",
   "execution_count": 6,
   "id": "bf1331e3",
   "metadata": {
    "execution": {
     "iopub.execute_input": "2025-07-30T17:28:23.650538Z",
     "iopub.status.busy": "2025-07-30T17:28:23.650207Z",
     "iopub.status.idle": "2025-07-30T17:28:23.778421Z",
     "shell.execute_reply": "2025-07-30T17:28:23.777551Z"
    },
    "papermill": {
     "duration": 0.135603,
     "end_time": "2025-07-30T17:28:23.780571",
     "exception": false,
     "start_time": "2025-07-30T17:28:23.644968",
     "status": "completed"
    },
    "tags": []
   },
   "outputs": [],
   "source": [
    "from sklearn.model_selection import train_test_split\n",
    "\n",
    "X_train, X_test , y_train , y_test = train_test_split(X , y , test_size = 0.25 , random_state = 42)\n"
   ]
  },
  {
   "cell_type": "code",
   "execution_count": 7,
   "id": "e94e5571",
   "metadata": {
    "execution": {
     "iopub.execute_input": "2025-07-30T17:28:23.798146Z",
     "iopub.status.busy": "2025-07-30T17:28:23.797770Z",
     "iopub.status.idle": "2025-07-30T17:28:23.803430Z",
     "shell.execute_reply": "2025-07-30T17:28:23.802672Z"
    },
    "papermill": {
     "duration": 0.016076,
     "end_time": "2025-07-30T17:28:23.804977",
     "exception": false,
     "start_time": "2025-07-30T17:28:23.788901",
     "status": "completed"
    },
    "tags": []
   },
   "outputs": [
    {
     "data": {
      "text/plain": [
       "(426, 30)"
      ]
     },
     "execution_count": 7,
     "metadata": {},
     "output_type": "execute_result"
    }
   ],
   "source": [
    "X_train.shape"
   ]
  },
  {
   "cell_type": "code",
   "execution_count": 8,
   "id": "26f1eafe",
   "metadata": {
    "execution": {
     "iopub.execute_input": "2025-07-30T17:28:23.816430Z",
     "iopub.status.busy": "2025-07-30T17:28:23.815700Z",
     "iopub.status.idle": "2025-07-30T17:28:39.677429Z",
     "shell.execute_reply": "2025-07-30T17:28:39.676417Z"
    },
    "papermill": {
     "duration": 15.869491,
     "end_time": "2025-07-30T17:28:39.679093",
     "exception": false,
     "start_time": "2025-07-30T17:28:23.809602",
     "status": "completed"
    },
    "tags": []
   },
   "outputs": [
    {
     "name": "stderr",
     "output_type": "stream",
     "text": [
      "2025-07-30 17:28:25.740609: E external/local_xla/xla/stream_executor/cuda/cuda_fft.cc:477] Unable to register cuFFT factory: Attempting to register factory for plugin cuFFT when one has already been registered\n",
      "WARNING: All log messages before absl::InitializeLog() is called are written to STDERR\n",
      "E0000 00:00:1753896505.964215      13 cuda_dnn.cc:8310] Unable to register cuDNN factory: Attempting to register factory for plugin cuDNN when one has already been registered\n",
      "E0000 00:00:1753896506.026365      13 cuda_blas.cc:1418] Unable to register cuBLAS factory: Attempting to register factory for plugin cuBLAS when one has already been registered\n"
     ]
    }
   ],
   "source": [
    "import keras\n",
    "import tensorflow as tf\n"
   ]
  },
  {
   "cell_type": "code",
   "execution_count": 9,
   "id": "10b2dcf4",
   "metadata": {
    "execution": {
     "iopub.execute_input": "2025-07-30T17:28:39.690421Z",
     "iopub.status.busy": "2025-07-30T17:28:39.689777Z",
     "iopub.status.idle": "2025-07-30T17:28:39.789316Z",
     "shell.execute_reply": "2025-07-30T17:28:39.788328Z"
    },
    "papermill": {
     "duration": 0.106311,
     "end_time": "2025-07-30T17:28:39.790874",
     "exception": false,
     "start_time": "2025-07-30T17:28:39.684563",
     "status": "completed"
    },
    "tags": []
   },
   "outputs": [
    {
     "name": "stderr",
     "output_type": "stream",
     "text": [
      "2025-07-30 17:28:39.702597: E external/local_xla/xla/stream_executor/cuda/cuda_driver.cc:152] failed call to cuInit: INTERNAL: CUDA error: Failed call to cuInit: UNKNOWN ERROR (303)\n"
     ]
    }
   ],
   "source": [
    "Model = keras.models.Sequential([\n",
    "            keras.layers.Input(shape=(30,)),\n",
    "            keras.layers.Dense(128 , activation = 'relu'),          \n",
    "            keras.layers.Dense(265 , activation = 'relu'),\n",
    "            keras.layers.Dense(64 , activation = 'relu'),          \n",
    "            keras.layers.Dense(64 , activation = 'relu'),\n",
    "            keras.layers.Dense(1 , activation = 'sigmoid')   \n",
    "])"
   ]
  },
  {
   "cell_type": "code",
   "execution_count": 10,
   "id": "aeb25f5b",
   "metadata": {
    "execution": {
     "iopub.execute_input": "2025-07-30T17:28:39.801316Z",
     "iopub.status.busy": "2025-07-30T17:28:39.800504Z",
     "iopub.status.idle": "2025-07-30T17:28:39.884111Z",
     "shell.execute_reply": "2025-07-30T17:28:39.883335Z"
    },
    "papermill": {
     "duration": 0.09033,
     "end_time": "2025-07-30T17:28:39.885716",
     "exception": false,
     "start_time": "2025-07-30T17:28:39.795386",
     "status": "completed"
    },
    "tags": []
   },
   "outputs": [],
   "source": [
    "from tensorflow.keras.optimizers import AdamW\n",
    "\n",
    "myoptimizer = AdamW(\n",
    "    learning_rate=0.01,\n",
    "    weight_decay=0.004,\n",
    "    beta_1=0.9,\n",
    "    beta_2=0.999,\n",
    "    epsilon=1e-07,\n",
    "    amsgrad=False,\n",
    "    name=\"AdamW\"\n",
    ")"
   ]
  },
  {
   "cell_type": "code",
   "execution_count": 11,
   "id": "21b4afb8",
   "metadata": {
    "execution": {
     "iopub.execute_input": "2025-07-30T17:28:39.895991Z",
     "iopub.status.busy": "2025-07-30T17:28:39.895641Z",
     "iopub.status.idle": "2025-07-30T17:28:39.904549Z",
     "shell.execute_reply": "2025-07-30T17:28:39.903866Z"
    },
    "papermill": {
     "duration": 0.015639,
     "end_time": "2025-07-30T17:28:39.905816",
     "exception": false,
     "start_time": "2025-07-30T17:28:39.890177",
     "status": "completed"
    },
    "tags": []
   },
   "outputs": [],
   "source": [
    "Model.compile(optimizer = myoptimizer , loss = 'binary_crossentropy' , metrics = ['accuracy'])"
   ]
  },
  {
   "cell_type": "code",
   "execution_count": 12,
   "id": "00e35ff8",
   "metadata": {
    "execution": {
     "iopub.execute_input": "2025-07-30T17:28:39.915605Z",
     "iopub.status.busy": "2025-07-30T17:28:39.915308Z",
     "iopub.status.idle": "2025-07-30T17:28:45.322337Z",
     "shell.execute_reply": "2025-07-30T17:28:45.321393Z"
    },
    "papermill": {
     "duration": 5.413949,
     "end_time": "2025-07-30T17:28:45.324160",
     "exception": false,
     "start_time": "2025-07-30T17:28:39.910211",
     "status": "completed"
    },
    "tags": []
   },
   "outputs": [
    {
     "name": "stdout",
     "output_type": "stream",
     "text": [
      "Epoch 1/300\n",
      "\u001b[1m5/5\u001b[0m \u001b[32m━━━━━━━━━━━━━━━━━━━━\u001b[0m\u001b[37m\u001b[0m \u001b[1m3s\u001b[0m 105ms/step - accuracy: 0.4685 - loss: 109.2332 - val_accuracy: 0.3776 - val_loss: 17.7304\n",
      "Epoch 2/300\n",
      "\u001b[1m5/5\u001b[0m \u001b[32m━━━━━━━━━━━━━━━━━━━━\u001b[0m\u001b[37m\u001b[0m \u001b[1m0s\u001b[0m 21ms/step - accuracy: 0.4741 - loss: 15.3259 - val_accuracy: 0.6224 - val_loss: 8.6793\n",
      "Epoch 3/300\n",
      "\u001b[1m5/5\u001b[0m \u001b[32m━━━━━━━━━━━━━━━━━━━━\u001b[0m\u001b[37m\u001b[0m \u001b[1m0s\u001b[0m 19ms/step - accuracy: 0.5801 - loss: 5.0712 - val_accuracy: 0.3776 - val_loss: 1.1205\n",
      "Epoch 4/300\n",
      "\u001b[1m5/5\u001b[0m \u001b[32m━━━━━━━━━━━━━━━━━━━━\u001b[0m\u001b[37m\u001b[0m \u001b[1m0s\u001b[0m 19ms/step - accuracy: 0.4954 - loss: 3.2358 - val_accuracy: 0.3776 - val_loss: 1.8553\n",
      "Epoch 5/300\n",
      "\u001b[1m5/5\u001b[0m \u001b[32m━━━━━━━━━━━━━━━━━━━━\u001b[0m\u001b[37m\u001b[0m \u001b[1m0s\u001b[0m 19ms/step - accuracy: 0.4176 - loss: 1.7514 - val_accuracy: 0.6224 - val_loss: 1.3000\n",
      "Epoch 6/300\n",
      "\u001b[1m5/5\u001b[0m \u001b[32m━━━━━━━━━━━━━━━━━━━━\u001b[0m\u001b[37m\u001b[0m \u001b[1m0s\u001b[0m 20ms/step - accuracy: 0.6173 - loss: 0.9628 - val_accuracy: 0.7622 - val_loss: 0.4699\n",
      "Epoch 7/300\n",
      "\u001b[1m5/5\u001b[0m \u001b[32m━━━━━━━━━━━━━━━━━━━━\u001b[0m\u001b[37m\u001b[0m \u001b[1m0s\u001b[0m 20ms/step - accuracy: 0.7549 - loss: 0.5024 - val_accuracy: 0.8252 - val_loss: 0.4412\n",
      "Epoch 8/300\n",
      "\u001b[1m5/5\u001b[0m \u001b[32m━━━━━━━━━━━━━━━━━━━━\u001b[0m\u001b[37m\u001b[0m \u001b[1m0s\u001b[0m 20ms/step - accuracy: 0.8024 - loss: 0.4569 - val_accuracy: 0.9021 - val_loss: 0.3206\n",
      "Epoch 9/300\n",
      "\u001b[1m5/5\u001b[0m \u001b[32m━━━━━━━━━━━━━━━━━━━━\u001b[0m\u001b[37m\u001b[0m \u001b[1m0s\u001b[0m 20ms/step - accuracy: 0.8574 - loss: 0.3681 - val_accuracy: 0.9371 - val_loss: 0.2349\n",
      "Epoch 10/300\n",
      "\u001b[1m5/5\u001b[0m \u001b[32m━━━━━━━━━━━━━━━━━━━━\u001b[0m\u001b[37m\u001b[0m \u001b[1m0s\u001b[0m 20ms/step - accuracy: 0.8878 - loss: 0.3065 - val_accuracy: 0.9301 - val_loss: 0.1786\n",
      "Epoch 11/300\n",
      "\u001b[1m5/5\u001b[0m \u001b[32m━━━━━━━━━━━━━━━━━━━━\u001b[0m\u001b[37m\u001b[0m \u001b[1m0s\u001b[0m 20ms/step - accuracy: 0.9132 - loss: 0.2402 - val_accuracy: 0.9301 - val_loss: 0.1719\n",
      "Epoch 12/300\n",
      "\u001b[1m5/5\u001b[0m \u001b[32m━━━━━━━━━━━━━━━━━━━━\u001b[0m\u001b[37m\u001b[0m \u001b[1m0s\u001b[0m 19ms/step - accuracy: 0.9046 - loss: 0.2479 - val_accuracy: 0.9301 - val_loss: 0.1700\n",
      "Epoch 13/300\n",
      "\u001b[1m5/5\u001b[0m \u001b[32m━━━━━━━━━━━━━━━━━━━━\u001b[0m\u001b[37m\u001b[0m \u001b[1m0s\u001b[0m 19ms/step - accuracy: 0.9082 - loss: 0.2505 - val_accuracy: 0.9091 - val_loss: 0.2448\n",
      "Epoch 14/300\n",
      "\u001b[1m5/5\u001b[0m \u001b[32m━━━━━━━━━━━━━━━━━━━━\u001b[0m\u001b[37m\u001b[0m \u001b[1m0s\u001b[0m 19ms/step - accuracy: 0.8982 - loss: 0.2546 - val_accuracy: 0.8671 - val_loss: 0.3605\n",
      "Epoch 15/300\n",
      "\u001b[1m5/5\u001b[0m \u001b[32m━━━━━━━━━━━━━━━━━━━━\u001b[0m\u001b[37m\u001b[0m \u001b[1m0s\u001b[0m 19ms/step - accuracy: 0.8378 - loss: 0.3570 - val_accuracy: 0.9021 - val_loss: 0.2805\n",
      "Epoch 16/300\n",
      "\u001b[1m5/5\u001b[0m \u001b[32m━━━━━━━━━━━━━━━━━━━━\u001b[0m\u001b[37m\u001b[0m \u001b[1m0s\u001b[0m 20ms/step - accuracy: 0.8990 - loss: 0.2987 - val_accuracy: 0.8881 - val_loss: 0.3082\n",
      "Epoch 17/300\n",
      "\u001b[1m5/5\u001b[0m \u001b[32m━━━━━━━━━━━━━━━━━━━━\u001b[0m\u001b[37m\u001b[0m \u001b[1m0s\u001b[0m 19ms/step - accuracy: 0.8599 - loss: 0.3319 - val_accuracy: 0.9161 - val_loss: 0.2003\n",
      "Epoch 18/300\n",
      "\u001b[1m5/5\u001b[0m \u001b[32m━━━━━━━━━━━━━━━━━━━━\u001b[0m\u001b[37m\u001b[0m \u001b[1m0s\u001b[0m 19ms/step - accuracy: 0.9076 - loss: 0.2437 - val_accuracy: 0.9231 - val_loss: 0.2094\n",
      "Epoch 19/300\n",
      "\u001b[1m5/5\u001b[0m \u001b[32m━━━━━━━━━━━━━━━━━━━━\u001b[0m\u001b[37m\u001b[0m \u001b[1m0s\u001b[0m 19ms/step - accuracy: 0.8998 - loss: 0.2681 - val_accuracy: 0.9371 - val_loss: 0.1499\n"
     ]
    }
   ],
   "source": [
    "history = Model.fit(X_train ,y_train , validation_data= (X_test , y_test) , epochs = 300 , batch_size=100 , verbose=1,\n",
    "                         callbacks=[tf.keras.callbacks.EarlyStopping(\n",
    "                                            patience=10,\n",
    "                                            monitor='val_accuracy',#\"val_loss\",\n",
    "                                            restore_best_weights=True)])"
   ]
  },
  {
   "cell_type": "code",
   "execution_count": 13,
   "id": "757c1d06",
   "metadata": {
    "execution": {
     "iopub.execute_input": "2025-07-30T17:28:45.339983Z",
     "iopub.status.busy": "2025-07-30T17:28:45.339631Z",
     "iopub.status.idle": "2025-07-30T17:28:45.578323Z",
     "shell.execute_reply": "2025-07-30T17:28:45.577608Z"
    },
    "papermill": {
     "duration": 0.248367,
     "end_time": "2025-07-30T17:28:45.580042",
     "exception": false,
     "start_time": "2025-07-30T17:28:45.331675",
     "status": "completed"
    },
    "tags": []
   },
   "outputs": [
    {
     "name": "stdout",
     "output_type": "stream",
     "text": [
      "\u001b[1m5/5\u001b[0m \u001b[32m━━━━━━━━━━━━━━━━━━━━\u001b[0m\u001b[37m\u001b[0m \u001b[1m0s\u001b[0m 21ms/step\n"
     ]
    }
   ],
   "source": [
    "y_pred = Model.predict(X_test)"
   ]
  },
  {
   "cell_type": "code",
   "execution_count": 14,
   "id": "b22ab6d5",
   "metadata": {
    "execution": {
     "iopub.execute_input": "2025-07-30T17:28:45.596764Z",
     "iopub.status.busy": "2025-07-30T17:28:45.595932Z",
     "iopub.status.idle": "2025-07-30T17:28:45.600345Z",
     "shell.execute_reply": "2025-07-30T17:28:45.599669Z"
    },
    "papermill": {
     "duration": 0.014179,
     "end_time": "2025-07-30T17:28:45.601684",
     "exception": false,
     "start_time": "2025-07-30T17:28:45.587505",
     "status": "completed"
    },
    "tags": []
   },
   "outputs": [],
   "source": [
    "y_pred = (y_pred > 0.5).astype(int)"
   ]
  },
  {
   "cell_type": "code",
   "execution_count": 15,
   "id": "64c91e35",
   "metadata": {
    "execution": {
     "iopub.execute_input": "2025-07-30T17:28:45.617842Z",
     "iopub.status.busy": "2025-07-30T17:28:45.617010Z",
     "iopub.status.idle": "2025-07-30T17:28:45.622966Z",
     "shell.execute_reply": "2025-07-30T17:28:45.621897Z"
    },
    "papermill": {
     "duration": 0.015338,
     "end_time": "2025-07-30T17:28:45.624317",
     "exception": false,
     "start_time": "2025-07-30T17:28:45.608979",
     "status": "completed"
    },
    "tags": []
   },
   "outputs": [
    {
     "name": "stdout",
     "output_type": "stream",
     "text": [
      "[[1]\n",
      " [0]\n",
      " [1]\n",
      " [1]\n",
      " [1]\n",
      " [0]\n",
      " [1]\n",
      " [1]\n",
      " [1]\n",
      " [0]]\n",
      "457    1\n",
      "167    0\n",
      "165    1\n",
      "329    0\n",
      "527    1\n",
      "83     0\n",
      "511    1\n",
      "556    1\n",
      "101    1\n",
      "535    0\n",
      "Name: target, dtype: int64\n"
     ]
    }
   ],
   "source": [
    "print(y_pred[10:20])\n",
    "print(y_test[10:20])"
   ]
  },
  {
   "cell_type": "code",
   "execution_count": 16,
   "id": "0cc1a0b5",
   "metadata": {
    "execution": {
     "iopub.execute_input": "2025-07-30T17:28:45.640535Z",
     "iopub.status.busy": "2025-07-30T17:28:45.639718Z",
     "iopub.status.idle": "2025-07-30T17:28:45.754494Z",
     "shell.execute_reply": "2025-07-30T17:28:45.753666Z"
    },
    "papermill": {
     "duration": 0.124216,
     "end_time": "2025-07-30T17:28:45.755812",
     "exception": false,
     "start_time": "2025-07-30T17:28:45.631596",
     "status": "completed"
    },
    "tags": []
   },
   "outputs": [
    {
     "name": "stdout",
     "output_type": "stream",
     "text": [
      "\u001b[1m5/5\u001b[0m \u001b[32m━━━━━━━━━━━━━━━━━━━━\u001b[0m\u001b[37m\u001b[0m \u001b[1m0s\u001b[0m 7ms/step - accuracy: 0.9473 - loss: 0.2231 \n",
      "model loss 0.23488478362560272\n",
      "model accuracy 0.9370629191398621\n"
     ]
    }
   ],
   "source": [
    "ModelLoss , ModelAccuracy  = Model.evaluate(X_test, y_test)\n",
    "print(\"model loss {}\".format(ModelLoss))\n",
    "print(\"model accuracy {}\".format(ModelAccuracy))"
   ]
  },
  {
   "cell_type": "code",
   "execution_count": 17,
   "id": "4d2090f5",
   "metadata": {
    "execution": {
     "iopub.execute_input": "2025-07-30T17:28:45.772250Z",
     "iopub.status.busy": "2025-07-30T17:28:45.771672Z",
     "iopub.status.idle": "2025-07-30T17:28:46.063650Z",
     "shell.execute_reply": "2025-07-30T17:28:46.062841Z"
    },
    "papermill": {
     "duration": 0.301924,
     "end_time": "2025-07-30T17:28:46.065346",
     "exception": false,
     "start_time": "2025-07-30T17:28:45.763422",
     "status": "completed"
    },
    "tags": []
   },
   "outputs": [
    {
     "data": {
      "image/png": "[encoded data removed]",
      "text/plain": [
       "<Figure size 640x480 with 1 Axes>"
      ]
     },
     "metadata": {},
     "output_type": "display_data"
    }
   ],
   "source": [
    "import matplotlib.pyplot as plt\n",
    "plt.plot(history.history['accuracy'])\n",
    "plt.plot(history.history['val_accuracy'])\n",
    "plt.title('train vs test accuracy')\n",
    "plt.xlabel('epoch')\n",
    "plt.ylabel('accuracy')\n",
    "plt.legend(['train', 'validation'], loc='upper left')\n",
    "plt.show()\n"
   ]
  },
  {
   "cell_type": "code",
   "execution_count": 18,
   "id": "82c1cc2a",
   "metadata": {
    "execution": {
     "iopub.execute_input": "2025-07-30T17:28:46.083264Z",
     "iopub.status.busy": "2025-07-30T17:28:46.082974Z",
     "iopub.status.idle": "2025-07-30T17:28:46.241807Z",
     "shell.execute_reply": "2025-07-30T17:28:46.240845Z"
    },
    "papermill": {
     "duration": 0.16953,
     "end_time": "2025-07-30T17:28:46.243214",
     "exception": false,
     "start_time": "2025-07-30T17:28:46.073684",
     "status": "completed"
    },
    "tags": []
   },
   "outputs": [
    {
     "data": {
      "image/png": "[encoded data removed]",
      "text/plain": [
       "<Figure size 640x480 with 1 Axes>"
      ]
     },
     "metadata": {},
     "output_type": "display_data"
    }
   ],
   "source": [
    "plt.plot(history.history['loss'])\n",
    "plt.plot(history.history['val_loss'])\n",
    "plt.xlabel('epochs')\n",
    "plt.ylabel('loss')\n",
    "plt.legend(['train' , 'validation'] , loc = 'upper right')\n",
    "plt.show()"
   ]
  },
  {
   "cell_type": "code",
   "execution_count": 19,
   "id": "4d6cad9d",
   "metadata": {
    "execution": {
     "iopub.execute_input": "2025-07-30T17:28:46.261932Z",
     "iopub.status.busy": "2025-07-30T17:28:46.261265Z",
     "iopub.status.idle": "2025-07-30T17:28:46.269417Z",
     "shell.execute_reply": "2025-07-30T17:28:46.268296Z"
    },
    "papermill": {
     "duration": 0.018889,
     "end_time": "2025-07-30T17:28:46.270696",
     "exception": false,
     "start_time": "2025-07-30T17:28:46.251807",
     "status": "completed"
    },
    "tags": []
   },
   "outputs": [
    {
     "name": "stdout",
     "output_type": "stream",
     "text": [
      "the consusion matrix : \n",
      " [[46  8]\n",
      " [ 1 88]]\n"
     ]
    }
   ],
   "source": [
    "from sklearn.metrics import confusion_matrix\n",
    "CM = confusion_matrix(y_test , y_pred)\n",
    "print('the consusion matrix : \\n', CM )"
   ]
  },
  {
   "cell_type": "code",
   "execution_count": 20,
   "id": "960a5743",
   "metadata": {
    "execution": {
     "iopub.execute_input": "2025-07-30T17:28:46.289724Z",
     "iopub.status.busy": "2025-07-30T17:28:46.289089Z",
     "iopub.status.idle": "2025-07-30T17:28:46.959656Z",
     "shell.execute_reply": "2025-07-30T17:28:46.958412Z"
    },
    "papermill": {
     "duration": 0.681775,
     "end_time": "2025-07-30T17:28:46.961242",
     "exception": false,
     "start_time": "2025-07-30T17:28:46.279467",
     "status": "completed"
    },
    "tags": []
   },
   "outputs": [
    {
     "name": "stderr",
     "output_type": "stream",
     "text": [
      "/usr/local/lib/python3.11/dist-packages/matplotlib/colors.py:721: RuntimeWarning: invalid value encountered in less\n",
      "  xa[xa < 0] = -1\n"
     ]
    },
    {
     "data": {
      "image/png": "[encoded data removed]",
      "text/plain": [
       "<Figure size 640x480 with 2 Axes>"
      ]
     },
     "metadata": {},
     "output_type": "display_data"
    }
   ],
   "source": [
    "import seaborn as sns\n",
    "\n",
    "sns.heatmap(CM , center = True , cmap='Blues_r')\n",
    "plt.show()"
   ]
  },
  {
   "cell_type": "code",
   "execution_count": 21,
   "id": "7cd241ff",
   "metadata": {
    "execution": {
     "iopub.execute_input": "2025-07-30T17:28:46.980697Z",
     "iopub.status.busy": "2025-07-30T17:28:46.979519Z",
     "iopub.status.idle": "2025-07-30T17:28:46.992336Z",
     "shell.execute_reply": "2025-07-30T17:28:46.991344Z"
    },
    "papermill": {
     "duration": 0.023737,
     "end_time": "2025-07-30T17:28:46.993747",
     "exception": false,
     "start_time": "2025-07-30T17:28:46.970010",
     "status": "completed"
    },
    "tags": []
   },
   "outputs": [
    {
     "name": "stdout",
     "output_type": "stream",
     "text": [
      "classification report \n",
      "               precision    recall  f1-score   support\n",
      "\n",
      "           0       0.98      0.85      0.91        54\n",
      "           1       0.92      0.99      0.95        89\n",
      "\n",
      "    accuracy                           0.94       143\n",
      "   macro avg       0.95      0.92      0.93       143\n",
      "weighted avg       0.94      0.94      0.94       143\n",
      "\n"
     ]
    }
   ],
   "source": [
    "from sklearn.metrics import classification_report\n",
    "ClassificationReport = classification_report(y_test , y_pred)\n",
    "print('classification report \\n' , ClassificationReport)"
   ]
  },
  {
   "cell_type": "code",
   "execution_count": null,
   "id": "85d5e7bc",
   "metadata": {
    "papermill": {
     "duration": 0.008908,
     "end_time": "2025-07-30T17:28:47.012565",
     "exception": false,
     "start_time": "2025-07-30T17:28:47.003657",
     "status": "completed"
    },
    "tags": []
   },
   "outputs": [],
   "source": []
  }
 ],
 "metadata": {
  "kaggle": {
   "accelerator": "none",
   "dataSources": [],
   "dockerImageVersionId": 31089,
   "isGpuEnabled": false,
   "isInternetEnabled": true,
   "language": "python",
   "sourceType": "notebook"
  },
  "kernelspec": {
   "display_name": "Python 3",
   "language": "python",
   "name": "python3"
  },
  "language_info": {
   "codemirror_mode": {
    "name": "ipython",
    "version": 3
   },
   "file_extension": ".py",
   "mimetype": "text/x-python",
   "name": "python",
   "nbconvert_exporter": "python",
   "pygments_lexer": "ipython3",
   "version": "3.11.13"
  },
  "papermill": {
   "default_parameters": {},
   "duration": 35.187309,
   "end_time": "2025-07-30T17:28:50.306624",
   "environment_variables": {},
   "exception": null,
   "input_path": "__notebook__.ipynb",
   "output_path": "__notebook__.ipynb",
   "parameters": {},
   "start_time": "2025-07-30T17:28:15.119315",
   "version": "2.6.0"
  }
 },
 "nbformat": 4,
 "nbformat_minor": 5
}
